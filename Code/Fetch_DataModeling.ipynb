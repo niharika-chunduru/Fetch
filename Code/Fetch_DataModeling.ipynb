{
 "cells": [
  {
   "cell_type": "code",
   "execution_count": 4,
   "metadata": {},
   "outputs": [],
   "source": [
    "import json\n",
    "import pandas as pd"
   ]
  },
  {
   "cell_type": "markdown",
   "metadata": {},
   "source": [
    "## receipts.json"
   ]
  },
  {
   "cell_type": "code",
   "execution_count": 132,
   "metadata": {},
   "outputs": [],
   "source": [
    "with open('receipts.json', 'r') as file:\n",
    "    receipts = json.load(file)\n",
    "\n",
    "receipts = pd.json_normalize(receipts)"
   ]
  },
  {
   "cell_type": "code",
   "execution_count": 133,
   "metadata": {},
   "outputs": [
    {
     "data": {
      "text/html": [
       "<div>\n",
       "<style scoped>\n",
       "    .dataframe tbody tr th:only-of-type {\n",
       "        vertical-align: middle;\n",
       "    }\n",
       "\n",
       "    .dataframe tbody tr th {\n",
       "        vertical-align: top;\n",
       "    }\n",
       "\n",
       "    .dataframe thead th {\n",
       "        text-align: right;\n",
       "    }\n",
       "</style>\n",
       "<table border=\"1\" class=\"dataframe\">\n",
       "  <thead>\n",
       "    <tr style=\"text-align: right;\">\n",
       "      <th></th>\n",
       "      <th>bonusPointsEarned</th>\n",
       "      <th>bonusPointsEarnedReason</th>\n",
       "      <th>pointsEarned</th>\n",
       "      <th>purchasedItemCount</th>\n",
       "      <th>rewardsReceiptItemList</th>\n",
       "      <th>rewardsReceiptStatus</th>\n",
       "      <th>totalSpent</th>\n",
       "      <th>userId</th>\n",
       "      <th>_id.$oid</th>\n",
       "      <th>createDate.$date</th>\n",
       "      <th>dateScanned.$date</th>\n",
       "      <th>finishedDate.$date</th>\n",
       "      <th>modifyDate.$date</th>\n",
       "      <th>pointsAwardedDate.$date</th>\n",
       "      <th>purchaseDate.$date</th>\n",
       "    </tr>\n",
       "  </thead>\n",
       "  <tbody>\n",
       "    <tr>\n",
       "      <th>0</th>\n",
       "      <td>500.0</td>\n",
       "      <td>Receipt number 2 completed, bonus point schedu...</td>\n",
       "      <td>500.0</td>\n",
       "      <td>5.0</td>\n",
       "      <td>[{'barcode': '4011', 'description': 'ITEM NOT ...</td>\n",
       "      <td>FINISHED</td>\n",
       "      <td>26.00</td>\n",
       "      <td>5ff1e1eacfcf6c399c274ae6</td>\n",
       "      <td>5ff1e1eb0a720f0523000575</td>\n",
       "      <td>1609687531000</td>\n",
       "      <td>1609687531000</td>\n",
       "      <td>1.609688e+12</td>\n",
       "      <td>1609687536000</td>\n",
       "      <td>1.609688e+12</td>\n",
       "      <td>1.609632e+12</td>\n",
       "    </tr>\n",
       "    <tr>\n",
       "      <th>1</th>\n",
       "      <td>150.0</td>\n",
       "      <td>Receipt number 5 completed, bonus point schedu...</td>\n",
       "      <td>150.0</td>\n",
       "      <td>2.0</td>\n",
       "      <td>[{'barcode': '4011', 'description': 'ITEM NOT ...</td>\n",
       "      <td>FINISHED</td>\n",
       "      <td>11.00</td>\n",
       "      <td>5ff1e194b6a9d73a3a9f1052</td>\n",
       "      <td>5ff1e1bb0a720f052300056b</td>\n",
       "      <td>1609687483000</td>\n",
       "      <td>1609687483000</td>\n",
       "      <td>1.609687e+12</td>\n",
       "      <td>1609687488000</td>\n",
       "      <td>1.609687e+12</td>\n",
       "      <td>1.609601e+12</td>\n",
       "    </tr>\n",
       "    <tr>\n",
       "      <th>2</th>\n",
       "      <td>5.0</td>\n",
       "      <td>All-receipts receipt bonus</td>\n",
       "      <td>5</td>\n",
       "      <td>1.0</td>\n",
       "      <td>[{'needsFetchReview': False, 'partnerItemId': ...</td>\n",
       "      <td>REJECTED</td>\n",
       "      <td>10.00</td>\n",
       "      <td>5ff1e1f1cfcf6c399c274b0b</td>\n",
       "      <td>5ff1e1f10a720f052300057a</td>\n",
       "      <td>1609687537000</td>\n",
       "      <td>1609687537000</td>\n",
       "      <td>NaN</td>\n",
       "      <td>1609687542000</td>\n",
       "      <td>NaN</td>\n",
       "      <td>1.609632e+12</td>\n",
       "    </tr>\n",
       "    <tr>\n",
       "      <th>3</th>\n",
       "      <td>5.0</td>\n",
       "      <td>All-receipts receipt bonus</td>\n",
       "      <td>5.0</td>\n",
       "      <td>4.0</td>\n",
       "      <td>[{'barcode': '4011', 'description': 'ITEM NOT ...</td>\n",
       "      <td>FINISHED</td>\n",
       "      <td>28.00</td>\n",
       "      <td>5ff1e1eacfcf6c399c274ae6</td>\n",
       "      <td>5ff1e1ee0a7214ada100056f</td>\n",
       "      <td>1609687534000</td>\n",
       "      <td>1609687534000</td>\n",
       "      <td>1.609688e+12</td>\n",
       "      <td>1609687539000</td>\n",
       "      <td>1.609688e+12</td>\n",
       "      <td>1.609632e+12</td>\n",
       "    </tr>\n",
       "    <tr>\n",
       "      <th>4</th>\n",
       "      <td>5.0</td>\n",
       "      <td>All-receipts receipt bonus</td>\n",
       "      <td>5.0</td>\n",
       "      <td>2.0</td>\n",
       "      <td>[{'barcode': '4011', 'description': 'ITEM NOT ...</td>\n",
       "      <td>FINISHED</td>\n",
       "      <td>1.00</td>\n",
       "      <td>5ff1e194b6a9d73a3a9f1052</td>\n",
       "      <td>5ff1e1d20a7214ada1000561</td>\n",
       "      <td>1609687506000</td>\n",
       "      <td>1609687506000</td>\n",
       "      <td>1.609688e+12</td>\n",
       "      <td>1609687511000</td>\n",
       "      <td>1.609688e+12</td>\n",
       "      <td>1.609601e+12</td>\n",
       "    </tr>\n",
       "  </tbody>\n",
       "</table>\n",
       "</div>"
      ],
      "text/plain": [
       "   bonusPointsEarned                            bonusPointsEarnedReason  \\\n",
       "0              500.0  Receipt number 2 completed, bonus point schedu...   \n",
       "1              150.0  Receipt number 5 completed, bonus point schedu...   \n",
       "2                5.0                         All-receipts receipt bonus   \n",
       "3                5.0                         All-receipts receipt bonus   \n",
       "4                5.0                         All-receipts receipt bonus   \n",
       "\n",
       "  pointsEarned  purchasedItemCount  \\\n",
       "0        500.0                 5.0   \n",
       "1        150.0                 2.0   \n",
       "2            5                 1.0   \n",
       "3          5.0                 4.0   \n",
       "4          5.0                 2.0   \n",
       "\n",
       "                              rewardsReceiptItemList rewardsReceiptStatus  \\\n",
       "0  [{'barcode': '4011', 'description': 'ITEM NOT ...             FINISHED   \n",
       "1  [{'barcode': '4011', 'description': 'ITEM NOT ...             FINISHED   \n",
       "2  [{'needsFetchReview': False, 'partnerItemId': ...             REJECTED   \n",
       "3  [{'barcode': '4011', 'description': 'ITEM NOT ...             FINISHED   \n",
       "4  [{'barcode': '4011', 'description': 'ITEM NOT ...             FINISHED   \n",
       "\n",
       "  totalSpent                    userId                  _id.$oid  \\\n",
       "0      26.00  5ff1e1eacfcf6c399c274ae6  5ff1e1eb0a720f0523000575   \n",
       "1      11.00  5ff1e194b6a9d73a3a9f1052  5ff1e1bb0a720f052300056b   \n",
       "2      10.00  5ff1e1f1cfcf6c399c274b0b  5ff1e1f10a720f052300057a   \n",
       "3      28.00  5ff1e1eacfcf6c399c274ae6  5ff1e1ee0a7214ada100056f   \n",
       "4       1.00  5ff1e194b6a9d73a3a9f1052  5ff1e1d20a7214ada1000561   \n",
       "\n",
       "   createDate.$date  dateScanned.$date  finishedDate.$date  modifyDate.$date  \\\n",
       "0     1609687531000      1609687531000        1.609688e+12     1609687536000   \n",
       "1     1609687483000      1609687483000        1.609687e+12     1609687488000   \n",
       "2     1609687537000      1609687537000                 NaN     1609687542000   \n",
       "3     1609687534000      1609687534000        1.609688e+12     1609687539000   \n",
       "4     1609687506000      1609687506000        1.609688e+12     1609687511000   \n",
       "\n",
       "   pointsAwardedDate.$date  purchaseDate.$date  \n",
       "0             1.609688e+12        1.609632e+12  \n",
       "1             1.609687e+12        1.609601e+12  \n",
       "2                      NaN        1.609632e+12  \n",
       "3             1.609688e+12        1.609632e+12  \n",
       "4             1.609688e+12        1.609601e+12  "
      ]
     },
     "execution_count": 133,
     "metadata": {},
     "output_type": "execute_result"
    }
   ],
   "source": [
    "receipts.head()"
   ]
  },
  {
   "cell_type": "code",
   "execution_count": 134,
   "metadata": {},
   "outputs": [],
   "source": [
    "# Extracting desired attributes for SQL storage\n",
    "receipt_columns = ['_id.$oid','userId','dateScanned.$date','rewardsReceiptStatus','totalSpent','pointsEarned','purchasedItemCount','rewardsReceiptItemList']\n",
    "receipts = receipts[receipt_columns]\n",
    "\n",
    "receipts = receipts.rename(columns={'_id.$oid':'receiptId','dateScanned.$date':'dateScanned'})"
   ]
  },
  {
   "cell_type": "code",
   "execution_count": 135,
   "metadata": {},
   "outputs": [],
   "source": [
    "# Converting the data into desired data types\n",
    "receipts.dateScanned = pd.to_datetime(receipts.dateScanned, unit='ms')\n",
    "receipts.totalSpent = pd.to_numeric(receipts.totalSpent)\n",
    "receipts.pointsEarned = pd.to_numeric(receipts.pointsEarned)\n",
    "receipts.purchasedItemCount = pd.to_numeric(receipts.purchasedItemCount).astype('Int64')"
   ]
  },
  {
   "cell_type": "code",
   "execution_count": 136,
   "metadata": {},
   "outputs": [],
   "source": [
    "# Replacing NaN values with None\n",
    "receipts = receipts.where((pd.notnull(receipts)), None)"
   ]
  },
  {
   "cell_type": "code",
   "execution_count": 137,
   "metadata": {},
   "outputs": [],
   "source": [
    "# Extracting items from every receipt into a new table\n",
    "receiptItemList = receipts[['receiptId','dateScanned','rewardsReceiptItemList']].explode('rewardsReceiptItemList').reset_index(drop=True).sort_values(by='receiptId')\n",
    "receiptItemList = pd.concat([receiptItemList[['receiptId','dateScanned']],receiptItemList['rewardsReceiptItemList'].apply(pd.Series)], axis=1)"
   ]
  },
  {
   "cell_type": "code",
   "execution_count": 138,
   "metadata": {},
   "outputs": [
    {
     "data": {
      "text/html": [
       "<div>\n",
       "<style scoped>\n",
       "    .dataframe tbody tr th:only-of-type {\n",
       "        vertical-align: middle;\n",
       "    }\n",
       "\n",
       "    .dataframe tbody tr th {\n",
       "        vertical-align: top;\n",
       "    }\n",
       "\n",
       "    .dataframe thead th {\n",
       "        text-align: right;\n",
       "    }\n",
       "</style>\n",
       "<table border=\"1\" class=\"dataframe\">\n",
       "  <thead>\n",
       "    <tr style=\"text-align: right;\">\n",
       "      <th></th>\n",
       "      <th>receiptId</th>\n",
       "      <th>dateScanned</th>\n",
       "      <th>needsFetchReview</th>\n",
       "      <th>needsFetchReviewReason</th>\n",
       "      <th>partnerItemId</th>\n",
       "      <th>preventTargetGapPoints</th>\n",
       "      <th>userFlaggedBarcode</th>\n",
       "      <th>userFlaggedDescription</th>\n",
       "      <th>userFlaggedNewItem</th>\n",
       "      <th>userFlaggedPrice</th>\n",
       "      <th>...</th>\n",
       "      <th>originalMetaBriteDescription</th>\n",
       "      <th>discountedItemPrice</th>\n",
       "      <th>itemNumber</th>\n",
       "      <th>pointsNotAwardedReason</th>\n",
       "      <th>brandCode</th>\n",
       "      <th>competitorRewardsGroup</th>\n",
       "      <th>originalReceiptItemText</th>\n",
       "      <th>deleted</th>\n",
       "      <th>priceAfterCoupon</th>\n",
       "      <th>metabriteCampaignId</th>\n",
       "    </tr>\n",
       "  </thead>\n",
       "  <tbody>\n",
       "    <tr>\n",
       "      <th>25</th>\n",
       "      <td>5f9c74f70a7214ad07000037</td>\n",
       "      <td>2020-10-30 20:17:59</td>\n",
       "      <td>True</td>\n",
       "      <td>USER_FLAGGED</td>\n",
       "      <td>2</td>\n",
       "      <td>True</td>\n",
       "      <td>034100573065</td>\n",
       "      <td>MILLER LITE 24 PACK 12OZ CAN</td>\n",
       "      <td>True</td>\n",
       "      <td>29.00</td>\n",
       "      <td>...</td>\n",
       "      <td>NaN</td>\n",
       "      <td>NaN</td>\n",
       "      <td>NaN</td>\n",
       "      <td>NaN</td>\n",
       "      <td>NaN</td>\n",
       "      <td>NaN</td>\n",
       "      <td>NaN</td>\n",
       "      <td>NaN</td>\n",
       "      <td>NaN</td>\n",
       "      <td>NaN</td>\n",
       "    </tr>\n",
       "    <tr>\n",
       "      <th>26</th>\n",
       "      <td>5f9c74f70a7214ad07000037</td>\n",
       "      <td>2020-10-30 20:17:59</td>\n",
       "      <td>True</td>\n",
       "      <td>USER_FLAGGED</td>\n",
       "      <td>3</td>\n",
       "      <td>True</td>\n",
       "      <td>034100573065</td>\n",
       "      <td>MILLER LITE 24 PACK 12OZ CAN</td>\n",
       "      <td>True</td>\n",
       "      <td>29.00</td>\n",
       "      <td>...</td>\n",
       "      <td>NaN</td>\n",
       "      <td>NaN</td>\n",
       "      <td>NaN</td>\n",
       "      <td>NaN</td>\n",
       "      <td>NaN</td>\n",
       "      <td>NaN</td>\n",
       "      <td>NaN</td>\n",
       "      <td>NaN</td>\n",
       "      <td>NaN</td>\n",
       "      <td>NaN</td>\n",
       "    </tr>\n",
       "    <tr>\n",
       "      <th>27</th>\n",
       "      <td>5f9c74f70a7214ad07000037</td>\n",
       "      <td>2020-10-30 20:17:59</td>\n",
       "      <td>True</td>\n",
       "      <td>USER_FLAGGED</td>\n",
       "      <td>4</td>\n",
       "      <td>True</td>\n",
       "      <td>034100573065</td>\n",
       "      <td>MILLER LITE 24 PACK 12OZ CAN</td>\n",
       "      <td>True</td>\n",
       "      <td>29.00</td>\n",
       "      <td>...</td>\n",
       "      <td>NaN</td>\n",
       "      <td>NaN</td>\n",
       "      <td>NaN</td>\n",
       "      <td>NaN</td>\n",
       "      <td>NaN</td>\n",
       "      <td>NaN</td>\n",
       "      <td>NaN</td>\n",
       "      <td>NaN</td>\n",
       "      <td>NaN</td>\n",
       "      <td>NaN</td>\n",
       "    </tr>\n",
       "    <tr>\n",
       "      <th>28</th>\n",
       "      <td>5f9c74f70a7214ad07000037</td>\n",
       "      <td>2020-10-30 20:17:59</td>\n",
       "      <td>True</td>\n",
       "      <td>USER_FLAGGED</td>\n",
       "      <td>5</td>\n",
       "      <td>True</td>\n",
       "      <td>034100573065</td>\n",
       "      <td>MILLER LITE 24 PACK 12OZ CAN</td>\n",
       "      <td>True</td>\n",
       "      <td>29.00</td>\n",
       "      <td>...</td>\n",
       "      <td>NaN</td>\n",
       "      <td>NaN</td>\n",
       "      <td>NaN</td>\n",
       "      <td>NaN</td>\n",
       "      <td>NaN</td>\n",
       "      <td>NaN</td>\n",
       "      <td>NaN</td>\n",
       "      <td>NaN</td>\n",
       "      <td>NaN</td>\n",
       "      <td>NaN</td>\n",
       "    </tr>\n",
       "    <tr>\n",
       "      <th>29</th>\n",
       "      <td>5f9c74f70a7214ad07000037</td>\n",
       "      <td>2020-10-30 20:17:59</td>\n",
       "      <td>True</td>\n",
       "      <td>USER_FLAGGED</td>\n",
       "      <td>6</td>\n",
       "      <td>True</td>\n",
       "      <td>034100573065</td>\n",
       "      <td>MILLER LITE 24 PACK 12OZ CAN</td>\n",
       "      <td>True</td>\n",
       "      <td>29.00</td>\n",
       "      <td>...</td>\n",
       "      <td>NaN</td>\n",
       "      <td>NaN</td>\n",
       "      <td>NaN</td>\n",
       "      <td>NaN</td>\n",
       "      <td>NaN</td>\n",
       "      <td>NaN</td>\n",
       "      <td>NaN</td>\n",
       "      <td>NaN</td>\n",
       "      <td>NaN</td>\n",
       "      <td>NaN</td>\n",
       "    </tr>\n",
       "  </tbody>\n",
       "</table>\n",
       "<p>5 rows × 36 columns</p>\n",
       "</div>"
      ],
      "text/plain": [
       "                   receiptId         dateScanned needsFetchReview  \\\n",
       "25  5f9c74f70a7214ad07000037 2020-10-30 20:17:59             True   \n",
       "26  5f9c74f70a7214ad07000037 2020-10-30 20:17:59             True   \n",
       "27  5f9c74f70a7214ad07000037 2020-10-30 20:17:59             True   \n",
       "28  5f9c74f70a7214ad07000037 2020-10-30 20:17:59             True   \n",
       "29  5f9c74f70a7214ad07000037 2020-10-30 20:17:59             True   \n",
       "\n",
       "   needsFetchReviewReason partnerItemId preventTargetGapPoints  \\\n",
       "25           USER_FLAGGED             2                   True   \n",
       "26           USER_FLAGGED             3                   True   \n",
       "27           USER_FLAGGED             4                   True   \n",
       "28           USER_FLAGGED             5                   True   \n",
       "29           USER_FLAGGED             6                   True   \n",
       "\n",
       "   userFlaggedBarcode        userFlaggedDescription userFlaggedNewItem  \\\n",
       "25       034100573065  MILLER LITE 24 PACK 12OZ CAN               True   \n",
       "26       034100573065  MILLER LITE 24 PACK 12OZ CAN               True   \n",
       "27       034100573065  MILLER LITE 24 PACK 12OZ CAN               True   \n",
       "28       034100573065  MILLER LITE 24 PACK 12OZ CAN               True   \n",
       "29       034100573065  MILLER LITE 24 PACK 12OZ CAN               True   \n",
       "\n",
       "   userFlaggedPrice  ...  originalMetaBriteDescription discountedItemPrice  \\\n",
       "25            29.00  ...                           NaN                 NaN   \n",
       "26            29.00  ...                           NaN                 NaN   \n",
       "27            29.00  ...                           NaN                 NaN   \n",
       "28            29.00  ...                           NaN                 NaN   \n",
       "29            29.00  ...                           NaN                 NaN   \n",
       "\n",
       "   itemNumber pointsNotAwardedReason brandCode  competitorRewardsGroup  \\\n",
       "25        NaN                    NaN       NaN                     NaN   \n",
       "26        NaN                    NaN       NaN                     NaN   \n",
       "27        NaN                    NaN       NaN                     NaN   \n",
       "28        NaN                    NaN       NaN                     NaN   \n",
       "29        NaN                    NaN       NaN                     NaN   \n",
       "\n",
       "   originalReceiptItemText deleted priceAfterCoupon metabriteCampaignId  \n",
       "25                     NaN     NaN              NaN                 NaN  \n",
       "26                     NaN     NaN              NaN                 NaN  \n",
       "27                     NaN     NaN              NaN                 NaN  \n",
       "28                     NaN     NaN              NaN                 NaN  \n",
       "29                     NaN     NaN              NaN                 NaN  \n",
       "\n",
       "[5 rows x 36 columns]"
      ]
     },
     "execution_count": 138,
     "metadata": {},
     "output_type": "execute_result"
    }
   ],
   "source": [
    "receiptItemList.head()"
   ]
  },
  {
   "cell_type": "code",
   "execution_count": 139,
   "metadata": {},
   "outputs": [],
   "source": [
    "# Dropping the receipt items from the receipts table to avoid duplicacy\n",
    "receipts = receipts.drop('rewardsReceiptItemList', axis=1)"
   ]
  },
  {
   "cell_type": "markdown",
   "metadata": {},
   "source": [
    "### receipt_items"
   ]
  },
  {
   "cell_type": "code",
   "execution_count": 143,
   "metadata": {},
   "outputs": [],
   "source": [
    "# Preparing the receipt items table\n",
    "receipt_items = receiptItemList[['receiptId', 'barcode', 'brandCode', 'finalPrice']].sort_values(by='receiptId')\n",
    "receipt_items.finalPrice = pd.to_numeric(receipt_items.finalPrice)\n",
    "receipt_items = receipt_items.where((pd.notnull(receipt_items)), None)"
   ]
  },
  {
   "cell_type": "code",
   "execution_count": 144,
   "metadata": {},
   "outputs": [
    {
     "data": {
      "text/html": [
       "<div>\n",
       "<style scoped>\n",
       "    .dataframe tbody tr th:only-of-type {\n",
       "        vertical-align: middle;\n",
       "    }\n",
       "\n",
       "    .dataframe tbody tr th {\n",
       "        vertical-align: top;\n",
       "    }\n",
       "\n",
       "    .dataframe thead th {\n",
       "        text-align: right;\n",
       "    }\n",
       "</style>\n",
       "<table border=\"1\" class=\"dataframe\">\n",
       "  <thead>\n",
       "    <tr style=\"text-align: right;\">\n",
       "      <th></th>\n",
       "      <th>receiptId</th>\n",
       "      <th>barcode</th>\n",
       "      <th>brandCode</th>\n",
       "      <th>finalPrice</th>\n",
       "    </tr>\n",
       "  </thead>\n",
       "  <tbody>\n",
       "    <tr>\n",
       "      <th>25</th>\n",
       "      <td>5f9c74f70a7214ad07000037</td>\n",
       "      <td>None</td>\n",
       "      <td>None</td>\n",
       "      <td>NaN</td>\n",
       "    </tr>\n",
       "    <tr>\n",
       "      <th>26</th>\n",
       "      <td>5f9c74f70a7214ad07000037</td>\n",
       "      <td>None</td>\n",
       "      <td>None</td>\n",
       "      <td>NaN</td>\n",
       "    </tr>\n",
       "    <tr>\n",
       "      <th>27</th>\n",
       "      <td>5f9c74f70a7214ad07000037</td>\n",
       "      <td>None</td>\n",
       "      <td>None</td>\n",
       "      <td>NaN</td>\n",
       "    </tr>\n",
       "    <tr>\n",
       "      <th>28</th>\n",
       "      <td>5f9c74f70a7214ad07000037</td>\n",
       "      <td>None</td>\n",
       "      <td>None</td>\n",
       "      <td>NaN</td>\n",
       "    </tr>\n",
       "    <tr>\n",
       "      <th>29</th>\n",
       "      <td>5f9c74f70a7214ad07000037</td>\n",
       "      <td>None</td>\n",
       "      <td>None</td>\n",
       "      <td>NaN</td>\n",
       "    </tr>\n",
       "  </tbody>\n",
       "</table>\n",
       "</div>"
      ],
      "text/plain": [
       "                   receiptId barcode brandCode  finalPrice\n",
       "25  5f9c74f70a7214ad07000037    None      None         NaN\n",
       "26  5f9c74f70a7214ad07000037    None      None         NaN\n",
       "27  5f9c74f70a7214ad07000037    None      None         NaN\n",
       "28  5f9c74f70a7214ad07000037    None      None         NaN\n",
       "29  5f9c74f70a7214ad07000037    None      None         NaN"
      ]
     },
     "execution_count": 144,
     "metadata": {},
     "output_type": "execute_result"
    }
   ],
   "source": [
    "receipt_items.sort_values(by='receiptId').head()"
   ]
  },
  {
   "cell_type": "markdown",
   "metadata": {},
   "source": [
    "## users.json"
   ]
  },
  {
   "cell_type": "code",
   "execution_count": 5,
   "metadata": {},
   "outputs": [],
   "source": [
    "with open('users.json', 'r') as file:\n",
    "    users = json.load(file)\n",
    "\n",
    "users = pd.json_normalize(users)"
   ]
  },
  {
   "cell_type": "code",
   "execution_count": 6,
   "metadata": {},
   "outputs": [],
   "source": [
    "# Preparing the users table\n",
    "user_columns = ['_id.$oid',\t'createdDate.$date', 'lastLogin.$date', 'role', 'state', 'signUpSource']\n",
    "users = users[user_columns].drop_duplicates()\n",
    "\n",
    "users = users.rename(columns={'_id.$oid':'userId',\t'createdDate.$date':'createdDate', 'lastLogin.$date':'lastLoginDate'})\n",
    "\n",
    "users.createdDate = pd.to_datetime(users.createdDate, unit='ms')\n",
    "users.lastLoginDate = pd.to_datetime(users.lastLoginDate, unit='ms')\n",
    "\n",
    "users = users.where((pd.notnull(users)), None)\n"
   ]
  },
  {
   "cell_type": "code",
   "execution_count": 7,
   "metadata": {},
   "outputs": [
    {
     "data": {
      "text/html": [
       "<div>\n",
       "<style scoped>\n",
       "    .dataframe tbody tr th:only-of-type {\n",
       "        vertical-align: middle;\n",
       "    }\n",
       "\n",
       "    .dataframe tbody tr th {\n",
       "        vertical-align: top;\n",
       "    }\n",
       "\n",
       "    .dataframe thead th {\n",
       "        text-align: right;\n",
       "    }\n",
       "</style>\n",
       "<table border=\"1\" class=\"dataframe\">\n",
       "  <thead>\n",
       "    <tr style=\"text-align: right;\">\n",
       "      <th></th>\n",
       "      <th>userId</th>\n",
       "      <th>createdDate</th>\n",
       "      <th>lastLoginDate</th>\n",
       "      <th>role</th>\n",
       "      <th>state</th>\n",
       "      <th>signUpSource</th>\n",
       "    </tr>\n",
       "  </thead>\n",
       "  <tbody>\n",
       "    <tr>\n",
       "      <th>0</th>\n",
       "      <td>5ff1e194b6a9d73a3a9f1052</td>\n",
       "      <td>2021-01-03 15:24:04.800</td>\n",
       "      <td>2021-01-03 15:25:37.858</td>\n",
       "      <td>consumer</td>\n",
       "      <td>WI</td>\n",
       "      <td>Email</td>\n",
       "    </tr>\n",
       "    <tr>\n",
       "      <th>3</th>\n",
       "      <td>5ff1e1eacfcf6c399c274ae6</td>\n",
       "      <td>2021-01-03 15:25:30.554</td>\n",
       "      <td>2021-01-03 15:25:30.597</td>\n",
       "      <td>consumer</td>\n",
       "      <td>WI</td>\n",
       "      <td>Email</td>\n",
       "    </tr>\n",
       "    <tr>\n",
       "      <th>6</th>\n",
       "      <td>5ff1e1e8cfcf6c399c274ad9</td>\n",
       "      <td>2021-01-03 15:25:28.354</td>\n",
       "      <td>2021-01-03 15:25:28.392</td>\n",
       "      <td>consumer</td>\n",
       "      <td>WI</td>\n",
       "      <td>Email</td>\n",
       "    </tr>\n",
       "    <tr>\n",
       "      <th>7</th>\n",
       "      <td>5ff1e1b7cfcf6c399c274a5a</td>\n",
       "      <td>2021-01-03 15:24:39.626</td>\n",
       "      <td>2021-01-03 15:24:39.665</td>\n",
       "      <td>consumer</td>\n",
       "      <td>WI</td>\n",
       "      <td>Email</td>\n",
       "    </tr>\n",
       "    <tr>\n",
       "      <th>9</th>\n",
       "      <td>5ff1e1f1cfcf6c399c274b0b</td>\n",
       "      <td>2021-01-03 15:25:37.564</td>\n",
       "      <td>2021-01-03 15:25:37.599</td>\n",
       "      <td>consumer</td>\n",
       "      <td>WI</td>\n",
       "      <td>Email</td>\n",
       "    </tr>\n",
       "  </tbody>\n",
       "</table>\n",
       "</div>"
      ],
      "text/plain": [
       "                     userId             createdDate           lastLoginDate  \\\n",
       "0  5ff1e194b6a9d73a3a9f1052 2021-01-03 15:24:04.800 2021-01-03 15:25:37.858   \n",
       "3  5ff1e1eacfcf6c399c274ae6 2021-01-03 15:25:30.554 2021-01-03 15:25:30.597   \n",
       "6  5ff1e1e8cfcf6c399c274ad9 2021-01-03 15:25:28.354 2021-01-03 15:25:28.392   \n",
       "7  5ff1e1b7cfcf6c399c274a5a 2021-01-03 15:24:39.626 2021-01-03 15:24:39.665   \n",
       "9  5ff1e1f1cfcf6c399c274b0b 2021-01-03 15:25:37.564 2021-01-03 15:25:37.599   \n",
       "\n",
       "       role state signUpSource  \n",
       "0  consumer    WI        Email  \n",
       "3  consumer    WI        Email  \n",
       "6  consumer    WI        Email  \n",
       "7  consumer    WI        Email  \n",
       "9  consumer    WI        Email  "
      ]
     },
     "execution_count": 7,
     "metadata": {},
     "output_type": "execute_result"
    }
   ],
   "source": [
    "users.head()"
   ]
  },
  {
   "cell_type": "markdown",
   "metadata": {},
   "source": [
    "## brands.json"
   ]
  },
  {
   "cell_type": "code",
   "execution_count": 102,
   "metadata": {},
   "outputs": [],
   "source": [
    "with open('brands.json', 'r') as file:\n",
    "    brands = json.load(file)\n",
    "\n",
    "brands = pd.json_normalize(brands)"
   ]
  },
  {
   "cell_type": "code",
   "execution_count": 103,
   "metadata": {},
   "outputs": [],
   "source": [
    "# Preparing the brands table\n",
    "brand_columns = ['_id.$oid','barcode','brandCode']\n",
    "brands = brands[brand_columns]\n",
    "\n",
    "brands = brands.rename(columns={'_id.$oid':'brandId'}).sort_values(by='brandId')\n",
    "brands = brands.where((pd.notnull(brands)), None)"
   ]
  },
  {
   "cell_type": "code",
   "execution_count": 39,
   "metadata": {},
   "outputs": [
    {
     "data": {
      "text/html": [
       "<div>\n",
       "<style scoped>\n",
       "    .dataframe tbody tr th:only-of-type {\n",
       "        vertical-align: middle;\n",
       "    }\n",
       "\n",
       "    .dataframe tbody tr th {\n",
       "        vertical-align: top;\n",
       "    }\n",
       "\n",
       "    .dataframe thead th {\n",
       "        text-align: right;\n",
       "    }\n",
       "</style>\n",
       "<table border=\"1\" class=\"dataframe\">\n",
       "  <thead>\n",
       "    <tr style=\"text-align: right;\">\n",
       "      <th></th>\n",
       "      <th>brandId</th>\n",
       "      <th>barcode</th>\n",
       "      <th>brandCode</th>\n",
       "    </tr>\n",
       "  </thead>\n",
       "  <tbody>\n",
       "    <tr>\n",
       "      <th>852</th>\n",
       "      <td>5332f5ebe4b03c9a25efd0a7</td>\n",
       "      <td>511111304050</td>\n",
       "      <td>None</td>\n",
       "    </tr>\n",
       "    <tr>\n",
       "      <th>330</th>\n",
       "      <td>5332f5f2e4b03c9a25efd0a9</td>\n",
       "      <td>511111804048</td>\n",
       "      <td>None</td>\n",
       "    </tr>\n",
       "    <tr>\n",
       "      <th>83</th>\n",
       "      <td>5332f5f2e4b03c9a25efd0ab</td>\n",
       "      <td>511111604037</td>\n",
       "      <td>None</td>\n",
       "    </tr>\n",
       "    <tr>\n",
       "      <th>46</th>\n",
       "      <td>5332f5f3e4b03c9a25efd0ad</td>\n",
       "      <td>511111104025</td>\n",
       "      <td>None</td>\n",
       "    </tr>\n",
       "    <tr>\n",
       "      <th>944</th>\n",
       "      <td>5332f5f4e4b03c9a25efd0af</td>\n",
       "      <td>511111904014</td>\n",
       "      <td>None</td>\n",
       "    </tr>\n",
       "  </tbody>\n",
       "</table>\n",
       "</div>"
      ],
      "text/plain": [
       "                      brandId       barcode brandCode\n",
       "852  5332f5ebe4b03c9a25efd0a7  511111304050      None\n",
       "330  5332f5f2e4b03c9a25efd0a9  511111804048      None\n",
       "83   5332f5f2e4b03c9a25efd0ab  511111604037      None\n",
       "46   5332f5f3e4b03c9a25efd0ad  511111104025      None\n",
       "944  5332f5f4e4b03c9a25efd0af  511111904014      None"
      ]
     },
     "execution_count": 39,
     "metadata": {},
     "output_type": "execute_result"
    }
   ],
   "source": [
    "brands.head()"
   ]
  },
  {
   "cell_type": "markdown",
   "metadata": {},
   "source": [
    "## Loading all data frames into SQL tables"
   ]
  },
  {
   "cell_type": "code",
   "execution_count": 10,
   "metadata": {},
   "outputs": [],
   "source": [
    "from urllib.parse import quote_plus\n",
    "from sqlalchemy import create_engine\n",
    "\n",
    "sql_pwd = 'thisisnotmypwd'\n",
    "engine = create_engine('mysql+mysqlconnector://root:%s@localhost:3306/fetchrewards' % quote_plus(sql_pwd))"
   ]
  },
  {
   "cell_type": "code",
   "execution_count": 140,
   "metadata": {},
   "outputs": [
    {
     "data": {
      "text/plain": [
       "1119"
      ]
     },
     "execution_count": 140,
     "metadata": {},
     "output_type": "execute_result"
    }
   ],
   "source": [
    "receipts.to_sql('receipts', con=engine, if_exists='replace', index=False)"
   ]
  },
  {
   "cell_type": "code",
   "execution_count": 85,
   "metadata": {},
   "outputs": [
    {
     "data": {
      "text/plain": [
       "1746"
      ]
     },
     "execution_count": 85,
     "metadata": {},
     "output_type": "execute_result"
    }
   ],
   "source": [
    "receipt_items.to_sql('receipt_items', con=engine, if_exists='replace', index=False)"
   ]
  },
  {
   "cell_type": "code",
   "execution_count": 11,
   "metadata": {},
   "outputs": [
    {
     "data": {
      "text/plain": [
       "212"
      ]
     },
     "execution_count": 11,
     "metadata": {},
     "output_type": "execute_result"
    }
   ],
   "source": [
    "users.to_sql('users', con=engine, if_exists='replace', index=False)"
   ]
  },
  {
   "cell_type": "code",
   "execution_count": 45,
   "metadata": {},
   "outputs": [
    {
     "data": {
      "text/plain": [
       "1167"
      ]
     },
     "execution_count": 45,
     "metadata": {},
     "output_type": "execute_result"
    }
   ],
   "source": [
    "brands.to_sql('brands', con=engine, if_exists='replace', index=False)"
   ]
  }
 ],
 "metadata": {
  "kernelspec": {
   "display_name": "Python 3",
   "language": "python",
   "name": "python3"
  },
  "language_info": {
   "codemirror_mode": {
    "name": "ipython",
    "version": 3
   },
   "file_extension": ".py",
   "mimetype": "text/x-python",
   "name": "python",
   "nbconvert_exporter": "python",
   "pygments_lexer": "ipython3",
   "version": "3.9.6"
  }
 },
 "nbformat": 4,
 "nbformat_minor": 2
}
